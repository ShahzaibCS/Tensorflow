{
 "cells": [
  {
   "cell_type": "markdown",
   "metadata": {},
   "source": [
    "# Splitting dataset into training & test dataset"
   ]
  },
  {
   "cell_type": "code",
   "execution_count": null,
   "metadata": {
    "collapsed": true
   },
   "outputs": [],
   "source": [
    "def split_dataset(x_dataset, y_dataset, ratio):\n",
    "    arr = np.arange(x_dataset.size);\n",
    "    np.random.shuffle(arr);\n",
    "    num_train = ratio * x_dataset.size;\n",
    "    \n",
    "    x_train = x_dataset[arr[0:num_train]];\n",
    "    y_train = y_dataset[arr[0:num_train]];\n",
    "    \n",
    "    x_test = x_dataset[arr[num_train:x_dataset.size]];\n",
    "    y_test = y_dataset[arr[num_train:y_dataset.size]];\n",
    "    \n",
    "    return x_train,x_test,y_train,y_test;\n",
    "    "
   ]
  },
  {
   "cell_type": "markdown",
   "metadata": {},
   "source": [
    "\n",
    "# Evaluating regularization parameters"
   ]
  },
  {
   "cell_type": "code",
   "execution_count": 4,
   "metadata": {
    "collapsed": false
   },
   "outputs": [
    {
     "ename": "SyntaxError",
     "evalue": "invalid syntax (<ipython-input-4-4532a754cf57>, line 46)",
     "output_type": "error",
     "traceback": [
      "\u001b[0;36m  File \u001b[0;32m\"<ipython-input-4-4532a754cf57>\"\u001b[0;36m, line \u001b[0;32m46\u001b[0m\n\u001b[0;31m    final_cost = sess.run(cost, feed_dict={X:x_test, Y:y_test)\u001b[0m\n\u001b[0m                                                             ^\u001b[0m\n\u001b[0;31mSyntaxError\u001b[0m\u001b[0;31m:\u001b[0m invalid syntax\n"
     ]
    }
   ],
   "source": [
    "import tensorflow as tf\n",
    "import numpy as np\n",
    "import matplotlib.pyplot as plt\n",
    "\n",
    "learning_rate = 0.001;\n",
    "training_epochs = 1000;\n",
    "reg_lambda = 0;\n",
    "\n",
    "x_dataset = np.linspace(-1,1,100);\n",
    "\n",
    "num_coeffs = 9;\n",
    "y_dataset_params = [0.] *num_coeffs;\n",
    "y_dataset_params[2] = 1;\n",
    "y_dataset = 0;\n",
    "for i in range(num_coeffs):\n",
    "    y_dataset += y_dataset_params[i] * np.power(x_dataset, i);\n",
    "y_dataset += np.random.randn(*x_dataset.shape) - 0.3;\n",
    "\n",
    "(x_train,x_test,y_train,y_test) = split_dataset(x_dataset, y_dataset, 0.7);\n",
    "\n",
    "X = tf.placeholder(\"float\");\n",
    "Y = tf.placeholder(\"float\");\n",
    "\n",
    "def model(X,w):\n",
    "    terms = [];\n",
    "    for i in range(num_coeffs):\n",
    "        term = tf.mul(w[i], tf.pow(X,i))\n",
    "        terms.append(term);\n",
    "    return tf.add_n(terms);\n",
    "\n",
    "w =tf.Variable([0.] * num_coeffs, name=\"parameters\");\n",
    "y_model = model(X,w);\n",
    "\n",
    "#Defining cost function\n",
    "cost = tf.div(tf.add(tf.reduce_sum(tf.Square(Y-y_model)),tf.mul(reg_lambda, tf.reduce_sum(tf.square(w)))),2*x_train.size);\n",
    "\n",
    "train_op = tf.train.GradientDescentOptimizer(learning_rate).minimize(cost)\n",
    "\n",
    "sess = tf.Session();\n",
    "init = tf.initialize_all_variables();\n",
    "sess.run(init);\n",
    "\n",
    "for reg_lambda in np.linspace(0,1,100):\n",
    "    for epoch in range(training_epochs):\n",
    "        sess.run(train_op, feed_dict = {X : x_train, Y: y_train})\n",
    "    final_cost = sess.run(cost, feed_dict={X:x_test, Y:y_test})\n",
    "    print('reg lambda',reg_lambda);\n",
    "    print('final cost',final_cost);\n",
    "\n",
    "sess.close();\n",
    "    \n",
    "    \n",
    "\n"
   ]
  },
  {
   "cell_type": "code",
   "execution_count": null,
   "metadata": {
    "collapsed": true
   },
   "outputs": [],
   "source": []
  }
 ],
 "metadata": {
  "anaconda-cloud": {},
  "kernelspec": {
   "display_name": "Python [default]",
   "language": "python",
   "name": "python3"
  },
  "language_info": {
   "codemirror_mode": {
    "name": "ipython",
    "version": 3
   },
   "file_extension": ".py",
   "mimetype": "text/x-python",
   "name": "python",
   "nbconvert_exporter": "python",
   "pygments_lexer": "ipython3",
   "version": "3.5.2"
  }
 },
 "nbformat": 4,
 "nbformat_minor": 1
}
