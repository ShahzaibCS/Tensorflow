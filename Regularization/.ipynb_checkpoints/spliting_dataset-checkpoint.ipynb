{
 "cells": [
  {
   "cell_type": "markdown",
   "metadata": {},
   "source": [
    "# Splitting dataset into training & test dataset"
   ]
  },
  {
   "cell_type": "code",
   "execution_count": null,
   "metadata": {
    "collapsed": true
   },
   "outputs": [],
   "source": [
    "def split_dataset(x_dataset, y_dataset, ratio):\n",
    "    arr = np.arange(x_dataset.size);\n",
    "    np.random.shuffle(arr);\n",
    "    num_train = ratio * x_dataset.size;\n",
    "    \n",
    "    x_train = x_dataset[arr[0:num_train]];\n",
    "    y_train = y_dataset[arr[0:num_train]];\n",
    "    \n",
    "    x_test = x_dataset[arr[num_train:x_dataset.size]];\n",
    "    y_test = y_dataset[arr[num_train:y_dataset.size]];\n",
    "    \n",
    "    return x_train,x_test,y_train,y_test;\n",
    "    "
   ]
  }
 ],
 "metadata": {
  "anaconda-cloud": {},
  "kernelspec": {
   "display_name": "Python [default]",
   "language": "python",
   "name": "python3"
  },
  "language_info": {
   "codemirror_mode": {
    "name": "ipython",
    "version": 3
   },
   "file_extension": ".py",
   "mimetype": "text/x-python",
   "name": "python",
   "nbconvert_exporter": "python",
   "pygments_lexer": "ipython3",
   "version": "3.5.2"
  }
 },
 "nbformat": 4,
 "nbformat_minor": 1
}
