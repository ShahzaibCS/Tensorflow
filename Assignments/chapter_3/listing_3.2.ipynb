{
 "cells": [
  {
   "cell_type": "code",
   "execution_count": 1,
   "metadata": {
    "collapsed": false
   },
   "outputs": [
    {
     "data": {
      "image/png": "[encoded data removed]",
      "text/plain": [
       "<matplotlib.figure.Figure at 0x7f23c7043860>"
      ]
     },
     "metadata": {},
     "output_type": "display_data"
    }
   ],
   "source": [
    "import tensorflow as tf\n",
    "import numpy as np\n",
    "import matplotlib.pyplot as plt\n",
    "\n",
    "learning_rate = 0.01;\n",
    "training_epochs = 100;\n",
    "\n",
    "x_train = np.linspace(-1,1,101);\n",
    "y_train = 2 * x_train + np.random.randn(*x_train.shape) * 0.33;\n",
    "\n",
    "X = tf.placeholder(\"float\");\n",
    "Y = tf.placeholder(\"float\");\n",
    "\n",
    "def model(X,w):\n",
    "    return tf.mul(X,w)\n",
    "\n",
    "w = tf.Variable(0.0, name=\"weights\");\n",
    "\n",
    "y_model = model(X,w);\n",
    "cost = (tf.square(Y-y_model));\n",
    "\n",
    "train_op = tf.train.GradientDescentOptimizer(learning_rate).minimize(cost);\n",
    "\n",
    "#Setting up session\n",
    "sess = tf.Session();\n",
    "init = tf.initialize_all_variables();\n",
    "sess.run(init);\n",
    "\n",
    "for epoch in range(training_epochs):\n",
    "    for x,y in zip(x_train,y_train):\n",
    "        sess.run(train_op,feed_dict={X:x,Y:y})\n",
    "    w_val = sess.run(w);\n",
    "#     print(\"Weight Value\");\n",
    "#     print(w_val);\n",
    "\n",
    "sess.close();\n",
    "\n",
    "#Generating scatter plot.\n",
    "plt.scatter(x_train,y_train);\n",
    "# plt.show() #In order to get scatter plot and best fit line(i.e called best fit line for covering more data points on scatter plot)    \n",
    "y_learned = x_train*w_val;\n",
    "plt.plot(x_train,y_learned, 'r');\n",
    "plt.show();"
   ]
  },
  {
   "cell_type": "code",
   "execution_count": 7,
   "metadata": {
    "collapsed": false
   },
   "outputs": [
    {
     "name": "stdout",
     "output_type": "stream",
     "text": [
      "Number\n",
      "1\n",
      "Number\n",
      "2\n",
      "Number\n",
      "3\n",
      "Number\n",
      "4\n",
      "Number\n",
      "5\n",
      "Number\n",
      "6\n",
      "Number\n",
      "7\n",
      "Number\n",
      "8\n",
      "Number\n",
      "9\n"
     ]
    }
   ],
   "source": [
    "for num in range(1,10):\n",
    "    print(\"Number\");\n",
    "    print(num);\n",
    "#     print(\"Test Value x\");\n",
    "#     print(x_test);\n",
    "#     print(\"Test Value y\");\n",
    "#     print(y_test);"
   ]
  },
  {
   "cell_type": "code",
   "execution_count": null,
   "metadata": {
    "collapsed": true
   },
   "outputs": [],
   "source": [
    "import tensorflow as tf\n",
    "import numpy as np\n",
    "import matplotlib.pyplot as plt\n",
    "import pandas as pd\n",
    "\n",
    "df = pd.read_csv('kc_house_data.csv');\n",
    "\n",
    "learning_rate = 0.01;\n",
    "training_epochs = 100;\n",
    "\n",
    "# x_train = np.linspace(-1,1,101);\n",
    "# y_train = 2 * x_train + np.random.randn(*x_train.shape) * 0.33;\n",
    "\n",
    "x_train = df.price;\n",
    "# print(x_train)\n",
    "y_train = 2 * x_train + np.random.randn(*x_train.shape) * 0.33;\n",
    "\n",
    "X = tf.placeholder(\"float\");\n",
    "Y = tf.placeholder(\"float\");\n",
    "\n",
    "def model(X,w):\n",
    "    return tf.mul(X,w)\n",
    "\n",
    "w = tf.Variable(0.0, name=\"weights\");\n",
    "\n",
    "y_model = model(X,w);\n",
    "cost = (tf.square(Y-y_model));\n",
    "\n",
    "train_op = tf.train.GradientDescentOptimizer(learning_rate).minimize(cost);\n",
    "\n",
    "#Setting up session\n",
    "sess = tf.Session();\n",
    "init = tf.initialize_all_variables();\n",
    "sess.run(init);\n",
    "\n",
    "for epoch in range(training_epochs):\n",
    "    for x,y in zip(x_train,y_train):\n",
    "        sess.run(train_op,feed_dict={X:x,Y:y})\n",
    "    w_val = sess.run(w);\n",
    "#     print(\"Weight Value\");\n",
    "#     print(w_val);\n",
    "\n",
    "sess.close();\n",
    "\n",
    "#Generating scatter plot.\n",
    "plt.scatter(x_train,y_train);\n",
    "# plt.show() #In order to get scatter plot and best fit line(i.e called best fit line for covering more data points on scatter plot)    \n",
    "y_learned = x_train*w_val;\n",
    "plt.plot(x_train,y_learned, 'r');\n",
    "plt.show();"
   ]
  },
  {
   "cell_type": "code",
   "execution_count": null,
   "metadata": {
    "collapsed": true
   },
   "outputs": [],
   "source": []
  }
 ],
 "metadata": {
  "anaconda-cloud": {},
  "kernelspec": {
   "display_name": "Python [conda root]",
   "language": "python",
   "name": "conda-root-py"
  },
  "language_info": {
   "codemirror_mode": {
    "name": "ipython",
    "version": 3
   },
   "file_extension": ".py",
   "mimetype": "text/x-python",
   "name": "python",
   "nbconvert_exporter": "python",
   "pygments_lexer": "ipython3",
   "version": "3.5.2"
  }
 },
 "nbformat": 4,
 "nbformat_minor": 1
}
