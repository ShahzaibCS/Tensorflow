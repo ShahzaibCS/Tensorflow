{
 "cells": [
  {
   "cell_type": "code",
   "execution_count": 4,
   "metadata": {
    "collapsed": false
   },
   "outputs": [
    {
     "data": {
      "image/png": "[encoded data removed]",
      "text/plain": [
       "<matplotlib.figure.Figure at 0x7fc97823dfd0>"
      ]
     },
     "metadata": {},
     "output_type": "display_data"
    }
   ],
   "source": [
    "import tensorflow as tf\n",
    "import numpy as np\n",
    "import pandas as pd\n",
    "import matplotlib.pyplot as plt\n",
    "\n",
    "df = pd.read_csv('kc_house_data_4.csv');\n",
    "\n",
    "learning_rate = 0.01;\n",
    "training_epochs = 100;\n",
    "\n",
    "# x_train = np.linspace(-1,1,101);\n",
    "# y_train = 2 * x_train + np.random.randn(*x_train.shape) * 0.33;\n",
    "\n",
    "x_train = df.bathrooms;\n",
    "# print(x_train)\n",
    "y_train = 2 * x_train + np.random.randn(*x_train.shape) * 0.33;\n",
    "\n",
    "X = tf.placeholder(\"float\");\n",
    "Y = tf.placeholder(\"float\");\n",
    "\n",
    "def model(X,w):\n",
    "    return tf.mul(X,w)\n",
    "\n",
    "w = tf.Variable(0.0, name=\"weights\");\n",
    "\n",
    "y_model = model(X,w);\n",
    "cost = (tf.square(Y-y_model));\n",
    "\n",
    "train_op = tf.train.GradientDescentOptimizer(learning_rate).minimize(cost);\n",
    "\n",
    "#Setting up session\n",
    "sess = tf.Session();\n",
    "init = tf.initialize_all_variables();\n",
    "sess.run(init);\n",
    "\n",
    "for epoch in range(training_epochs):\n",
    "    for x,y in zip(x_train,y_train):\n",
    "        sess.run(train_op,feed_dict={X:x,Y:y})\n",
    "    w_val = sess.run(w);\n",
    "#     print(\"Weight Value\");\n",
    "#     print(w_val);\n",
    "\n",
    "sess.close();\n",
    "\n",
    "#Generating scatter plot.\n",
    "plt.scatter(x_train,y_train);\n",
    "# plt.show() #In order to get scatter plot and best fit line(i.e called best fit line for covering more data points on scatter plot)    \n",
    "y_learned = x_train*w_val;\n",
    "plt.plot(x_train,y_learned, 'r');\n",
    "plt.show();"
   ]
  },
  {
   "cell_type": "code",
   "execution_count": 2,
   "metadata": {
    "collapsed": false
   },
   "outputs": [
    {
     "data": {
      "text/plain": [
       "0        1.0\n",
       "1        2.0\n",
       "2        1.0\n",
       "3        1.0\n",
       "4        1.0\n",
       "5        1.0\n",
       "6        2.0\n",
       "7        1.0\n",
       "8        1.0\n",
       "9        2.0\n",
       "10       1.0\n",
       "11       1.0\n",
       "12       1.5\n",
       "13       1.0\n",
       "14       1.5\n",
       "15       2.0\n",
       "16       2.0\n",
       "17       1.5\n",
       "18       1.0\n",
       "19       1.0\n",
       "20       1.0\n",
       "21       1.0\n",
       "22       2.0\n",
       "23       1.0\n",
       "24       2.0\n",
       "25       1.5\n",
       "26       2.0\n",
       "27       1.5\n",
       "28       1.0\n",
       "29       2.0\n",
       "        ... \n",
       "21583    2.0\n",
       "21584    2.0\n",
       "21585    2.0\n",
       "21586    3.0\n",
       "21587    3.0\n",
       "21588    2.0\n",
       "21589    2.0\n",
       "21590    1.5\n",
       "21591    2.0\n",
       "21592    3.0\n",
       "21593    2.0\n",
       "21594    2.0\n",
       "21595    3.0\n",
       "21596    2.0\n",
       "21597    2.0\n",
       "21598    2.0\n",
       "21599    2.0\n",
       "21600    2.0\n",
       "21601    3.0\n",
       "21602    1.0\n",
       "21603    2.0\n",
       "21604    3.0\n",
       "21605    2.0\n",
       "21606    2.0\n",
       "21607    2.0\n",
       "21608    3.0\n",
       "21609    2.0\n",
       "21610    2.0\n",
       "21611    2.0\n",
       "21612    2.0\n",
       "Name: floors, dtype: float64"
      ]
     },
     "execution_count": 2,
     "metadata": {},
     "output_type": "execute_result"
    }
   ],
   "source": [
    "import pandas as pd\n",
    "\n",
    "#Read CSV file\n",
    "data = pd.read_csv('kc_house_data.csv');\n",
    "data.floors\n",
    "# np_array = data.floors;\n",
    "# np._max(10)"
   ]
  },
  {
   "cell_type": "code",
   "execution_count": null,
   "metadata": {
    "collapsed": true
   },
   "outputs": [],
   "source": []
  }
 ],
 "metadata": {
  "anaconda-cloud": {},
  "kernelspec": {
   "display_name": "Python [conda root]",
   "language": "python",
   "name": "conda-root-py"
  },
  "language_info": {
   "codemirror_mode": {
    "name": "ipython",
    "version": 3
   },
   "file_extension": ".py",
   "mimetype": "text/x-python",
   "name": "python",
   "nbconvert_exporter": "python",
   "pygments_lexer": "ipython3",
   "version": "3.5.2"
  }
 },
 "nbformat": 4,
 "nbformat_minor": 1
}
