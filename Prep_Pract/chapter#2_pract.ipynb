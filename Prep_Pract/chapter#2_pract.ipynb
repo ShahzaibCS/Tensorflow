{
 "cells": [
  {
   "cell_type": "code",
   "execution_count": null,
   "metadata": {
    "collapsed": true
   },
   "outputs": [],
   "source": [
    "# Listing 2.3"
   ]
  },
  {
   "cell_type": "code",
   "execution_count": 5,
   "metadata": {
    "collapsed": false
   },
   "outputs": [
    {
     "name": "stdout",
     "output_type": "stream",
     "text": [
      "<class 'list'>\n",
      "<class 'numpy.ndarray'>\n",
      "<class 'tensorflow.python.framework.ops.Tensor'>\n",
      "Tensor(\"Const_8:0\", shape=(2, 2), dtype=float32)\n",
      "Tensor(\"Const_9:0\", shape=(2, 2), dtype=float32)\n",
      "Tensor(\"Const_7:0\", shape=(2, 2), dtype=float32)\n",
      "Tensor object #1\n",
      "The slowest run took 36.65 times longer than the fastest. This could mean that an intermediate result is being cached.\n",
      "10000000 loops, best of 3: 29.7 ns per loop\n",
      "Tensor object #2\n",
      "10000000 loops, best of 3: 34.7 ns per loop\n",
      "Tensor object #3\n",
      "10000000 loops, best of 3: 28.1 ns per loop\n"
     ]
    }
   ],
   "source": [
    "import tensorflow as tf\n",
    "import numpy as np\n",
    "\n",
    "arr = [\n",
    "    [1.0,2.0],\n",
    "    [10.2,11.3]\n",
    "]\n",
    "\n",
    "#Simple Array\n",
    "m1 = arr\n",
    "\n",
    "m2 = np.array(arr,dtype=np.float32)\n",
    "\n",
    "m3 = tf.constant(arr)\n",
    "\n",
    "print(type(m1))\n",
    "print(type(m2))\n",
    "print(type(m3))\n",
    "\n",
    "t1 = tf.convert_to_tensor(m1,dtype=tf.float32);\n",
    "t2 = tf.convert_to_tensor(m2,dtype=tf.float32);\n",
    "t3 = tf.convert_to_tensor(m3,dtype=tf.float32);\n",
    "\n",
    "print(t1);\n",
    "print(t2);\n",
    "print(t3);\n",
    "\n",
    "print(\"Tensor object #1\");\n",
    "%timeit t1\n",
    "print(\"Tensor object #2\");\n",
    "%timeit t2\n",
    "print(\"Tensor object #3\");\n",
    "%timeit t3\n"
   ]
  },
  {
   "cell_type": "markdown",
   "metadata": {},
   "source": [
    "# Listing 2.4"
   ]
  },
  {
   "cell_type": "code",
   "execution_count": 7,
   "metadata": {
    "collapsed": false
   },
   "outputs": [
    {
     "name": "stdout",
     "output_type": "stream",
     "text": [
      "Matrix #1\n",
      "Tensor(\"Const_11:0\", shape=(2,), dtype=int32)\n",
      "Matrix #2\n",
      "Tensor(\"Const_12:0\", shape=(2, 1), dtype=int32)\n",
      "My Tensor\n",
      "Tensor(\"Const_13:0\", shape=(2, 3, 2), dtype=int32)\n"
     ]
    }
   ],
   "source": [
    "import tensorflow as tf\n",
    "\n",
    "matrix1 = tf.constant([1,2]);\n",
    "matrix2 = tf.constant([[1],\n",
    "                     [2]]);\n",
    "\n",
    "myTensor = tf.constant([ [[1,2],\n",
    "                          [3,4],\n",
    "                          [5,6]],\n",
    "                       [[7,8],\n",
    "                        [9,10],\n",
    "                        [11,12]]\n",
    "                       ])\n",
    "\n",
    "print(\"Matrix #1\")\n",
    "print(matrix1);\n",
    "print(\"Matrix #2\")\n",
    "print(matrix2);\n",
    "\n",
    "print(\"My Tensor\");\n",
    "print(myTensor);"
   ]
  },
  {
   "cell_type": "markdown",
   "metadata": {},
   "source": [
    "Initialize a 500-by-500 tensor with all elements equaling 0.5."
   ]
  },
  {
   "cell_type": "code",
   "execution_count": 12,
   "metadata": {
    "collapsed": false
   },
   "outputs": [
    {
     "data": {
      "text/plain": [
       "<tf.Tensor 'mul_4:0' shape=(500, 500) dtype=float32>"
      ]
     },
     "execution_count": 12,
     "metadata": {},
     "output_type": "execute_result"
    }
   ],
   "source": [
    "import tensorflow as tf\n",
    "\n",
    "tf.ones([500,500])*0.5\n",
    "# myTensor = tf.ones([500,500])*0.5\n",
    "# print(myTensor[0])\n"
   ]
  },
  {
   "cell_type": "markdown",
   "metadata": {},
   "source": [
    "# Listing 2.5 "
   ]
  },
  {
   "cell_type": "code",
   "execution_count": 3,
   "metadata": {
    "collapsed": false
   },
   "outputs": [
    {
     "name": "stdout",
     "output_type": "stream",
     "text": [
      "Tensor(\"Neg_2:0\", shape=(1, 2), dtype=int32)\n"
     ]
    }
   ],
   "source": [
    "import tensorflow as tf\n",
    "\n",
    "# tensor = tf.constant([1,2,3,4])\n",
    "tensor = tf.constant([[1,2]])\n",
    "\n",
    "print(tf.neg(tensor));"
   ]
  },
  {
   "cell_type": "code",
   "execution_count": 7,
   "metadata": {
    "collapsed": false
   },
   "outputs": [
    {
     "name": "stdout",
     "output_type": "stream",
     "text": [
      "Addition of two tensors\n",
      "Tensor(\"Add_3:0\", shape=(2,), dtype=int32)\n"
     ]
    }
   ],
   "source": [
    "#Addition of two tensors\n",
    "\n",
    "import tensorflow as tf\n",
    "\n",
    "tensor1 = tf.constant([1,2]);\n",
    "tensor2 = tf.constant([2,2]);\n",
    "\n",
    "result = tf.add(tensor1,tensor2);\n",
    "print(\"Addition of two tensors\");\n",
    "print(result);\n"
   ]
  },
  {
   "cell_type": "code",
   "execution_count": 9,
   "metadata": {
    "collapsed": false
   },
   "outputs": [
    {
     "name": "stdout",
     "output_type": "stream",
     "text": [
      "Normal Distribution or Gaussian Distribution\n",
      "Tensor(\"truediv_3:0\", shape=(), dtype=float32)\n"
     ]
    }
   ],
   "source": [
    "#Normal Distribution\n",
    "\n",
    "import tensorflow as tf\n",
    "from math import pi\n",
    "\n",
    "def myfn(x):\n",
    "    mean = 1.0;\n",
    "    sigma = 0.0;\n",
    "    \n",
    "#     (tf.exp(tf.neg(tf.pow(x-mean,2.0) / 2.0 * tf.pow(sigma,2.0))) * 1.0 / (sigma * tf.sqrt(2.0 * pi)))\n",
    "\n",
    "    print(\"Normal Distribution or Gaussian Distribution\");\n",
    "    print((tf.exp(tf.neg(tf.pow(x-mean,2.0) / 2.0 * tf.pow(sigma,2.0))) * 1.0 / (sigma * tf.sqrt(2.0 * pi)))); #Here we are getting a tensor object\n",
    "    \n",
    "myfn(2)    "
   ]
  },
  {
   "cell_type": "markdown",
   "metadata": {},
   "source": [
    "# Implementing sessions"
   ]
  },
  {
   "cell_type": "code",
   "execution_count": 11,
   "metadata": {
    "collapsed": false
   },
   "outputs": [
    {
     "name": "stdout",
     "output_type": "stream",
     "text": [
      "Normal Distribution or Gaussian Distribution\n",
      "Tensor(\"truediv_9:0\", shape=(), dtype=float32)\n",
      "Value\n",
      "inf\n",
      "Tensor Value\n",
      "inf\n"
     ]
    }
   ],
   "source": [
    "#Normal Distribution\n",
    "\n",
    "import tensorflow as tf\n",
    "from math import pi\n",
    "\n",
    "def myfn(x):\n",
    "    mean = 1.0;\n",
    "    sigma = 0.0;\n",
    "    \n",
    "#     (tf.exp(tf.neg(tf.pow(x-mean,2.0) / 2.0 * tf.pow(sigma,2.0))) * 1.0 / (sigma * tf.sqrt(2.0 * pi)))\n",
    "\n",
    "    print(\"Normal Distribution or Gaussian Distribution\");\n",
    "    print((tf.exp(tf.neg(tf.pow(x-mean,2.0) / 2.0 * tf.pow(sigma,2.0))) * 1.0 / (sigma * tf.sqrt(2.0 * pi)))); #Here we are getting a tensor object\n",
    "    \n",
    "    tensorObj = (tf.exp(tf.neg(tf.pow(x-mean,2.0) / 2.0 * tf.pow(sigma,2.0))) * 1.0 / (sigma * tf.sqrt(2.0 * pi)));\n",
    "    \n",
    "    #Session\n",
    "    with tf.Session() as sess:\n",
    "        result = sess.run(tensorObj);\n",
    "        print(\"Value\");\n",
    "        print(result);\n",
    "        \n",
    "    \n",
    "    print(\"Tensor Value\");\n",
    "    print(result);\n",
    "    \n",
    "myfn(2)    "
   ]
  },
  {
   "cell_type": "code",
   "execution_count": 12,
   "metadata": {
    "collapsed": false
   },
   "outputs": [
    {
     "name": "stdout",
     "output_type": "stream",
     "text": [
      "Negated Matrix\n",
      "[[-1. -2.]]\n"
     ]
    }
   ],
   "source": [
    "import tensorflow as tf\n",
    "\n",
    "matrix = tf.constant([[1. , 2.]]);\n",
    "neg_matrix = tf.neg(matrix);\n",
    "\n",
    "with tf.Session() as sess:\n",
    "    result = sess.run(neg_matrix);\n",
    "    \n",
    "print(\"Negated Matrix\");\n",
    "print(result);"
   ]
  },
  {
   "cell_type": "markdown",
   "metadata": {
    "collapsed": true
   },
   "source": [
    "# Listing 2.9"
   ]
  },
  {
   "cell_type": "code",
   "execution_count": 1,
   "metadata": {
    "collapsed": false
   },
   "outputs": [
    {
     "name": "stdout",
     "output_type": "stream",
     "text": [
      "Spike False\n",
      "Spike True\n",
      "Spike False\n",
      "Spike False\n",
      "Spike True\n",
      "Spike False\n",
      "Spike True\n"
     ]
    }
   ],
   "source": [
    "import tensorflow as tf\n",
    "import numpy as np\n",
    "\n",
    "#Initializing\n",
    "sess = tf.InteractiveSession()\n",
    "\n",
    "raw_data = [1.,2.,8.,-1.,0.,5.5,6.,13];\n",
    "spike = tf.Variable(False);\n",
    "spike.initializer.run();\n",
    "\n",
    "for i in range(1, len(raw_data)):\n",
    "    if raw_data[i] - raw_data[i-1] > 5:\n",
    "        updater = tf.assign(spike,True); \n",
    "        updater.eval();\n",
    "    else:\n",
    "        tf.assign(spike, False).eval()\n",
    "    print(\"Spike\",spike.eval());    \n",
    "\n",
    "#Closing Interactive session.\n",
    "sess.close();\n",
    "    "
   ]
  },
  {
   "cell_type": "code",
   "execution_count": null,
   "metadata": {
    "collapsed": true
   },
   "outputs": [],
   "source": []
  }
 ],
 "metadata": {
  "anaconda-cloud": {},
  "kernelspec": {
   "display_name": "Python [conda root]",
   "language": "python",
   "name": "conda-root-py"
  },
  "language_info": {
   "codemirror_mode": {
    "name": "ipython",
    "version": 3
   },
   "file_extension": ".py",
   "mimetype": "text/x-python",
   "name": "python",
   "nbconvert_exporter": "python",
   "pygments_lexer": "ipython3",
   "version": "3.5.2"
  }
 },
 "nbformat": 4,
 "nbformat_minor": 1
}
