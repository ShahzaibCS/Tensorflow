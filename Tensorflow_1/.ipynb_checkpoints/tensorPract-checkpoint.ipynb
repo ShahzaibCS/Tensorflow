{
 "cells": [
  {
   "cell_type": "code",
   "execution_count": 1,
   "metadata": {
    "collapsed": false
   },
   "outputs": [
    {
     "name": "stdout",
     "output_type": "stream",
     "text": [
      "[-1 -2]\n"
     ]
    }
   ],
   "source": [
    "#Listing 2.7 from book.\n",
    "\n",
    "import tensorflow as tf\n",
    "\n",
    "sess = tf.InteractiveSession()\n",
    "\n",
    "matrix = tf.constant([1,2]);\n",
    "negMatrix = tf.neg(matrix);\n",
    "\n",
    "result = negMatrix.eval();\n",
    "print(result)\n",
    "sess.close()\n",
    "\n"
   ]
  },
  {
   "cell_type": "code",
   "execution_count": 13,
   "metadata": {
    "collapsed": false
   },
   "outputs": [
    {
     "name": "stdout",
     "output_type": "stream",
     "text": [
      "Matrix1\n",
      "Tensor(\"Const_23:0\", shape=(3, 3), dtype=int32)\n",
      "Matrix2\n",
      "Tensor(\"Const_24:0\", shape=(3, 3), dtype=int32)\n",
      "Addition of tensors\n",
      "[[ 6 11 12]\n",
      " [ 4  3  2]\n",
      " [ 9 31 40]]\n",
      "\n",
      "Multiplication of tensors\n",
      "[[ 5 28 27]\n",
      " [ 3  2  1]\n",
      " [ 0  0  0]]\n"
     ]
    }
   ],
   "source": [
    "#Addition & Multiplication of two 3x3 matrix.\n",
    "\n",
    "import tensorflow as tf\n",
    "\n",
    "sess = tf.InteractiveSession()\n",
    "matrix1 = tf.constant([[1,7,9],[3,2,1],[9,31,40]]);\n",
    "matrix2 = tf.constant([[5,4,3],[1,1,1],[0,0,0]]);\n",
    "\n",
    "print(\"Matrix1\");\n",
    "print(matrix1);\n",
    "print(\"Matrix2\");\n",
    "print(matrix2);\n",
    "\n",
    "#Addition.\n",
    "addition_result = tf.add(matrix1,matrix2,name=None)\n",
    "print(\"Addition of tensors\");\n",
    "print(addition_result.eval());\n",
    "\n",
    "multiplication_result = tf.mul(matrix1,matrix2,name=None)\n",
    "print();\n",
    "print(\"Multiplication of tensors\")\n",
    "print(multiplication_result.eval())\n",
    "\n",
    "sess.close()\n",
    "\n",
    "# test_val_1 = 2;\n",
    "# test_val_2 = 3\n",
    "# print(tf.add(test_val_1,test_val_2,name=\"None\"));\n"
   ]
  },
  {
   "cell_type": "code",
   "execution_count": 16,
   "metadata": {
    "collapsed": false
   },
   "outputs": [
    {
     "name": "stdout",
     "output_type": "stream",
     "text": [
      "Spike False\n",
      "Spike True\n",
      "Spike False\n",
      "Spike False\n",
      "Spike True\n",
      "Spike False\n",
      "Spike True\n"
     ]
    }
   ],
   "source": [
    "# Listing 2.9 from book\n",
    "\n",
    "import tensorflow as tf\n",
    "\n",
    "#Interactive Session Creation.\n",
    "session = tf.InteractiveSession();\n",
    "\n",
    "raw_data = [1.,2.,8.,-1,0.,5.5,6.,13];\n",
    "spike = tf.Variable(False)\n",
    "spike.initializer.run()\n",
    "\n",
    "for i in range(1,len(raw_data)):\n",
    "    if raw_data[i] - raw_data[i-1] > 5 :\n",
    "        updater = tf.assign(spike, True)\n",
    "        updater.eval()\n",
    "    else:\n",
    "        tf.assign(spike,False).eval();\n",
    "    print(\"Spike\",spike.eval());  \n",
    "session.close()    "
   ]
  },
  {
   "cell_type": "code",
   "execution_count": null,
   "metadata": {
    "collapsed": true
   },
   "outputs": [],
   "source": [
    "# Listing 2.9 from book\n",
    "\n",
    "# import tensorflow as tf\n",
    "\n",
    "# #Interactive Session Creation.\n",
    "# # session = tf.InteractiveSession();\n",
    "\n",
    "# raw_data = [1.,2.,8.,-1,0.,5.5,6.,13];\n",
    "# with tf.Session() as sess:\n",
    "#     spike = tf.Variable(False);\n",
    "#     spike.initializer.run();\n",
    "#     for i in range(1,len(raw_data)):\n",
    "#         if raw_data[i] - raw_data[i-1] > 5:\n",
    "#             updater = tf.assign(spike,True)"
   ]
  },
  {
   "cell_type": "code",
   "execution_count": 1,
   "metadata": {
    "collapsed": false
   },
   "outputs": [
    {
     "name": "stdout",
     "output_type": "stream",
     "text": [
      "[False False  True False False  True False  True]\n",
      "spikes data saved in file : spikes.ckpt\n"
     ]
    }
   ],
   "source": [
    "#Listing 2.10 from book.\n",
    "\n",
    "import tensorflow as tf;\n",
    "session = tf.InteractiveSession();\n",
    "\n",
    "raw_data = [1.,2.,8.,-1,0.,5.5,6.,13];\n",
    "# tf.initialize_all_variables()\n",
    "spikes = tf.Variable([False] * len(raw_data), name='spikes');\n",
    "spikes.initializer.run();\n",
    "\n",
    "saver = tf.train.Saver()\n",
    "\n",
    "for i in range(1,len(raw_data)):\n",
    "    if raw_data[i] - raw_data[i-1] > 5:\n",
    "        spikes_val = spikes.eval();\n",
    "        spikes_val[i] = True;\n",
    "        updater = tf.assign(spikes, spikes_val);\n",
    "        updater.eval();\n",
    "\n",
    "print(updater.eval());        \n",
    "save_path = saver.save(session,\"spikes.ckpt\");\n",
    "print(\"spikes data saved in file : %s\" % save_path);\n",
    "\n",
    "session.close()\n"
   ]
  },
  {
   "cell_type": "code",
   "execution_count": 1,
   "metadata": {
    "collapsed": false
   },
   "outputs": [
    {
     "name": "stdout",
     "output_type": "stream",
     "text": [
      "[False False  True False False  True False  True]\n"
     ]
    }
   ],
   "source": [
    "#Listing 2.11 from book.\n",
    "import tensorflow as tf;\n",
    "session = tf.InteractiveSession()\n",
    "\n",
    "spikes = tf.Variable([False]*8, name='spikes');\n",
    "# spikes.initializer.run();\n",
    "saver = tf.train.Saver();\n",
    "\n",
    "saver.restore(session, \"spikes.ckpt\");\n",
    "print(spikes.eval());\n",
    "\n",
    "session.close()"
   ]
  },
  {
   "cell_type": "code",
   "execution_count": 4,
   "metadata": {
    "collapsed": false
   },
   "outputs": [
    {
     "ename": "AttributeError",
     "evalue": "module 'tensorflow' has no attribute 'initializer_all_variables'",
     "output_type": "error",
     "traceback": [
      "\u001b[0;31m---------------------------------------------------------------------------\u001b[0m",
      "\u001b[0;31mAttributeError\u001b[0m                            Traceback (most recent call last)",
      "\u001b[0;32m<ipython-input-4-60df41c1a67d>\u001b[0m in \u001b[0;36m<module>\u001b[0;34m()\u001b[0m\n\u001b[1;32m     13\u001b[0m \u001b[0mmerged\u001b[0m \u001b[0;34m=\u001b[0m \u001b[0mtf\u001b[0m\u001b[0;34m.\u001b[0m\u001b[0mmerge_all_summaries\u001b[0m\u001b[0;34m(\u001b[0m\u001b[0;34m)\u001b[0m\u001b[0;34m;\u001b[0m\u001b[0;34m\u001b[0m\u001b[0m\n\u001b[1;32m     14\u001b[0m \u001b[0mwriter\u001b[0m \u001b[0;34m=\u001b[0m \u001b[0mtf\u001b[0m\u001b[0;34m.\u001b[0m\u001b[0mtrain\u001b[0m\u001b[0;34m.\u001b[0m\u001b[0mSummaryWriter\u001b[0m\u001b[0;34m(\u001b[0m\u001b[0;34m\"./logs\"\u001b[0m\u001b[0;34m)\u001b[0m\u001b[0;34m;\u001b[0m\u001b[0;34m\u001b[0m\u001b[0m\n\u001b[0;32m---> 15\u001b[0;31m \u001b[0minit\u001b[0m \u001b[0;34m=\u001b[0m \u001b[0mtf\u001b[0m\u001b[0;34m.\u001b[0m\u001b[0minitializer_all_variables\u001b[0m\u001b[0;34m(\u001b[0m\u001b[0;34m)\u001b[0m\u001b[0;34m;\u001b[0m\u001b[0;34m\u001b[0m\u001b[0m\n\u001b[0m\u001b[1;32m     16\u001b[0m \u001b[0;34m\u001b[0m\u001b[0m\n\u001b[1;32m     17\u001b[0m \u001b[0;32mwith\u001b[0m \u001b[0mtf\u001b[0m\u001b[0;34m.\u001b[0m\u001b[0mSession\u001b[0m\u001b[0;34m(\u001b[0m\u001b[0;34m)\u001b[0m \u001b[0;32mas\u001b[0m \u001b[0msess\u001b[0m\u001b[0;34m:\u001b[0m\u001b[0;34m\u001b[0m\u001b[0m\n",
      "\u001b[0;31mAttributeError\u001b[0m: module 'tensorflow' has no attribute 'initializer_all_variables'"
     ]
    }
   ],
   "source": [
    "import tensorflow as tf \n",
    "import numpy as np\n",
    "\n",
    "raw_data = np.random.normal(10,1,100);\n",
    "\n",
    "alpha = tf.constant(0.05);\n",
    "curr_value = tf.placeholder(tf.float32);\n",
    "prev_avg = tf.Variable(0.);\n",
    "update_avg = alpha * curr_value + (1 - alpha) * prev_avg;\n",
    "\n",
    "avg_hist = tf.scalar_summary(\"running average\", update_avg);\n",
    "value_hist = tf.scalar_summary(\"incoming values\", curr_value);\n",
    "merged = tf.merge_all_summaries();\n",
    "writer = tf.train.SummaryWriter(\"./logs\");\n",
    "init = tf.initialize_all_variables();\n",
    "\n",
    "with tf.Session() as sess:\n",
    "    sess.run(init);\n",
    "    for i in range(len(raw_data)):\n",
    "        summary_str, curr_avg = sess.run([merged, update_avg], feed_dict={curr_value:raw_data[i]})\n",
    "        sess.run(tf.assign(prev_avg, curr_avg))\n",
    "        print(raw_data[i], curr_avg);\n",
    "        writer.add_summary(summary_str, i)"
   ]
  },
  {
   "cell_type": "code",
   "execution_count": null,
   "metadata": {
    "collapsed": true
   },
   "outputs": [],
   "source": []
  }
 ],
 "metadata": {
  "anaconda-cloud": {},
  "kernelspec": {
   "display_name": "Python [conda root]",
   "language": "python",
   "name": "conda-root-py"
  },
  "language_info": {
   "codemirror_mode": {
    "name": "ipython",
    "version": 3
   },
   "file_extension": ".py",
   "mimetype": "text/x-python",
   "name": "python",
   "nbconvert_exporter": "python",
   "pygments_lexer": "ipython3",
   "version": "3.5.2"
  }
 },
 "nbformat": 4,
 "nbformat_minor": 1
}
