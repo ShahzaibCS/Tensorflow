{
 "cells": [
  {
   "cell_type": "code",
   "execution_count": 1,
   "metadata": {
    "collapsed": false
   },
   "outputs": [
    {
     "name": "stdout",
     "output_type": "stream",
     "text": [
      "[-1 -2]\n"
     ]
    }
   ],
   "source": [
    "#Listing 2.7 from book.\n",
    "\n",
    "import tensorflow as tf\n",
    "\n",
    "sess = tf.InteractiveSession()\n",
    "\n",
    "matrix = tf.constant([1,2]);\n",
    "negMatrix = tf.neg(matrix);\n",
    "\n",
    "result = negMatrix.eval();\n",
    "print(result)\n",
    "sess.close()\n",
    "\n"
   ]
  },
  {
   "cell_type": "code",
   "execution_count": 13,
   "metadata": {
    "collapsed": false
   },
   "outputs": [
    {
     "name": "stdout",
     "output_type": "stream",
     "text": [
      "Matrix1\n",
      "Tensor(\"Const_23:0\", shape=(3, 3), dtype=int32)\n",
      "Matrix2\n",
      "Tensor(\"Const_24:0\", shape=(3, 3), dtype=int32)\n",
      "Addition of tensors\n",
      "[[ 6 11 12]\n",
      " [ 4  3  2]\n",
      " [ 9 31 40]]\n",
      "\n",
      "Multiplication of tensors\n",
      "[[ 5 28 27]\n",
      " [ 3  2  1]\n",
      " [ 0  0  0]]\n"
     ]
    }
   ],
   "source": [
    "#Addition & Multiplication of two 3x3 matrix.\n",
    "\n",
    "import tensorflow as tf\n",
    "\n",
    "sess = tf.InteractiveSession()\n",
    "matrix1 = tf.constant([[1,7,9],[3,2,1],[9,31,40]]);\n",
    "matrix2 = tf.constant([[5,4,3],[1,1,1],[0,0,0]]);\n",
    "\n",
    "print(\"Matrix1\");\n",
    "print(matrix1);\n",
    "print(\"Matrix2\");\n",
    "print(matrix2);\n",
    "\n",
    "#Addition.\n",
    "addition_result = tf.add(matrix1,matrix2,name=None)\n",
    "print(\"Addition of tensors\");\n",
    "print(addition_result.eval());\n",
    "\n",
    "multiplication_result = tf.mul(matrix1,matrix2,name=None)\n",
    "print();\n",
    "print(\"Multiplication of tensors\")\n",
    "print(multiplication_result.eval())\n",
    "\n",
    "sess.close()\n",
    "\n",
    "# test_val_1 = 2;\n",
    "# test_val_2 = 3\n",
    "# print(tf.add(test_val_1,test_val_2,name=\"None\"));\n"
   ]
  },
  {
   "cell_type": "code",
   "execution_count": 16,
   "metadata": {
    "collapsed": false
   },
   "outputs": [
    {
     "name": "stdout",
     "output_type": "stream",
     "text": [
      "Spike False\n",
      "Spike True\n",
      "Spike False\n",
      "Spike False\n",
      "Spike True\n",
      "Spike False\n",
      "Spike True\n"
     ]
    }
   ],
   "source": [
    "# Listing 2.9 from book\n",
    "\n",
    "import tensorflow as tf\n",
    "\n",
    "#Interactive Session Creation.\n",
    "session = tf.InteractiveSession();\n",
    "\n",
    "raw_data = [1.,2.,8.,-1,0.,5.5,6.,13];\n",
    "spike = tf.Variable(False)\n",
    "spike.initializer.run()\n",
    "\n",
    "for i in range(1,len(raw_data)):\n",
    "    if raw_data[i] - raw_data[i-1] > 5 :\n",
    "        updater = tf.assign(spike, True)\n",
    "        updater.eval()\n",
    "    else:\n",
    "        tf.assign(spike,False).eval();\n",
    "    print(\"Spike\",spike.eval());  \n",
    "session.close()    "
   ]
  },
  {
   "cell_type": "code",
   "execution_count": null,
   "metadata": {
    "collapsed": true
   },
   "outputs": [],
   "source": [
    "# Listing 2.9 from book\n",
    "\n",
    "# import tensorflow as tf\n",
    "\n",
    "# #Interactive Session Creation.\n",
    "# # session = tf.InteractiveSession();\n",
    "\n",
    "# raw_data = [1.,2.,8.,-1,0.,5.5,6.,13];\n",
    "# with tf.Session() as sess:\n",
    "#     spike = tf.Variable(False);\n",
    "#     spike.initializer.run();\n",
    "#     for i in range(1,len(raw_data)):\n",
    "#         if raw_data[i] - raw_data[i-1] > 5:\n",
    "#             updater = tf.assign(spike,True)"
   ]
  },
  {
   "cell_type": "code",
   "execution_count": 1,
   "metadata": {
    "collapsed": false
   },
   "outputs": [
    {
     "name": "stdout",
     "output_type": "stream",
     "text": [
      "[False False  True False False  True False  True]\n",
      "spikes data saved in file : spikes.ckpt\n"
     ]
    }
   ],
   "source": [
    "#Listing 2.10 from book.\n",
    "\n",
    "import tensorflow as tf;\n",
    "session = tf.InteractiveSession();\n",
    "\n",
    "raw_data = [1.,2.,8.,-1,0.,5.5,6.,13];\n",
    "# tf.initialize_all_variables()\n",
    "spikes = tf.Variable([False] * len(raw_data), name='spikes');\n",
    "spikes.initializer.run();\n",
    "\n",
    "saver = tf.train.Saver()\n",
    "\n",
    "for i in range(1,len(raw_data)):\n",
    "    if raw_data[i] - raw_data[i-1] > 5:\n",
    "        spikes_val = spikes.eval();\n",
    "        spikes_val[i] = True;\n",
    "        updater = tf.assign(spikes, spikes_val);\n",
    "        updater.eval();\n",
    "\n",
    "print(updater.eval());        \n",
    "save_path = saver.save(session,\"spikes.ckpt\");\n",
    "print(\"spikes data saved in file : %s\" % save_path);\n",
    "\n",
    "session.close()\n"
   ]
  },
  {
   "cell_type": "code",
   "execution_count": 1,
   "metadata": {
    "collapsed": false
   },
   "outputs": [
    {
     "name": "stdout",
     "output_type": "stream",
     "text": [
      "[False False  True False False  True False  True]\n"
     ]
    }
   ],
   "source": [
    "#Listing 2.11 from book.\n",
    "import tensorflow as tf;\n",
    "session = tf.InteractiveSession()\n",
    "\n",
    "spikes = tf.Variable([False]*8, name='spikes');\n",
    "# spikes.initializer.run();\n",
    "saver = tf.train.Saver();\n",
    "\n",
    "saver.restore(session, \"spikes.ckpt\");\n",
    "print(spikes.eval());\n",
    "\n",
    "session.close()"
   ]
  },
  {
   "cell_type": "code",
   "execution_count": 1,
   "metadata": {
    "collapsed": false
   },
   "outputs": [
    {
     "name": "stdout",
     "output_type": "stream",
     "text": [
      "9.57328415982 0.478664\n",
      "10.6404655193 0.986754\n",
      "8.80910165217 1.37787\n",
      "10.2744617281 1.8227\n",
      "9.48722764959 2.20593\n",
      "9.57885239813 2.57457\n",
      "9.96709051518 2.9442\n",
      "10.5328994454 3.32363\n",
      "10.2602910193 3.67047\n",
      "9.81305124232 3.9776\n",
      "7.96129004288 4.17678\n",
      "11.4301355083 4.53945\n",
      "10.7308531709 4.84902\n",
      "9.66779914094 5.08996\n",
      "10.0372881436 5.33732\n",
      "8.26982253303 5.48395\n",
      "9.36575529221 5.67804\n",
      "10.7614823314 5.93221\n",
      "10.9610091108 6.18365\n",
      "9.9880462642 6.37387\n",
      "9.91161701834 6.55076\n",
      "10.5797868126 6.75221\n",
      "9.38005746617 6.8836\n",
      "9.67967767807 7.0234\n",
      "11.6452523867 7.2545\n",
      "10.9866022944 7.4411\n",
      "10.2875050472 7.58342\n",
      "10.6475058289 7.73663\n",
      "10.0299189545 7.85129\n",
      "9.23476313849 7.92046\n",
      "11.5188365439 8.10038\n",
      "10.4204236063 8.21638\n",
      "9.7651172874 8.29382\n",
      "10.4698989063 8.40263\n",
      "10.4433965785 8.50466\n",
      "9.46038477542 8.55245\n",
      "11.4144847167 8.69555\n",
      "10.0124238558 8.7614\n",
      "10.1149126495 8.82907\n",
      "9.680342334 8.87163\n",
      "10.8605269518 8.97108\n",
      "10.4792333892 9.04649\n",
      "9.72982181282 9.08065\n",
      "9.53649226081 9.10345\n",
      "10.6165484663 9.1791\n",
      "9.78026495436 9.20916\n",
      "11.2361647846 9.31051\n",
      "10.4413010308 9.36705\n",
      "10.228452049 9.41012\n",
      "10.4926951254 9.46425\n",
      "9.23579835455 9.45283\n",
      "8.77742492561 9.41906\n",
      "10.5852808754 9.47737\n",
      "9.64692193131 9.48585\n",
      "10.1171255483 9.51741\n",
      "8.89006733348 9.48604\n",
      "8.72787225067 9.44813\n",
      "8.89415133686 9.42044\n",
      "9.71513184458 9.43517\n",
      "11.6833621243 9.54758\n",
      "10.2062502449 9.58051\n",
      "8.75001311984 9.53899\n",
      "11.0808320664 9.61608\n",
      "10.057904575 9.63817\n",
      "11.3699275685 9.72476\n",
      "9.16951641532 9.697\n",
      "9.98766214267 9.71153\n",
      "9.40100451191 9.696\n",
      "9.20410999812 9.67141\n",
      "8.82049783205 9.62886\n",
      "8.55717244718 9.57528\n",
      "9.81777090518 9.5874\n",
      "8.94354080149 9.55521\n",
      "9.43392810529 9.54915\n",
      "8.29476439127 9.48643\n",
      "9.68440234444 9.49633\n",
      "10.3728899687 9.54016\n",
      "11.3555648809 9.63093\n",
      "9.2405074408 9.61141\n",
      "9.39334935917 9.6005\n",
      "9.45964633549 9.59346\n",
      "11.4213150513 9.68485\n",
      "10.8586814369 9.74354\n",
      "10.842895206 9.79851\n",
      "10.9552077236 9.85635\n",
      "11.1698606593 9.92202\n",
      "9.55791905388 9.90382\n",
      "10.6442585913 9.94084\n",
      "9.7935219578 9.93347\n",
      "9.56362562466 9.91498\n",
      "11.2425171707 9.98136\n",
      "9.70358030105 9.96747\n",
      "8.60360969731 9.89927\n",
      "10.1595415252 9.91229\n",
      "10.0231212638 9.91783\n",
      "11.3931694769 9.9916\n",
      "9.14308057083 9.94917\n",
      "10.0195722718 9.95269\n",
      "11.3483711276 10.0225\n",
      "10.482606058 10.0455\n"
     ]
    }
   ],
   "source": [
    "import tensorflow as tf \n",
    "import numpy as np\n",
    "\n",
    "raw_data = np.random.normal(10,1,100);\n",
    "\n",
    "alpha = tf.constant(0.05);\n",
    "curr_value = tf.placeholder(tf.float32);\n",
    "prev_avg = tf.Variable(0.);\n",
    "update_avg = alpha * curr_value + (1 - alpha) * prev_avg;\n",
    "\n",
    "avg_hist = tf.scalar_summary(\"running average\", update_avg);\n",
    "value_hist = tf.scalar_summary(\"incoming values\", curr_value);\n",
    "merged = tf.merge_all_summaries();\n",
    "writer = tf.train.SummaryWriter(\"./logs\");\n",
    "init = tf.initialize_all_variables();\n",
    "\n",
    "with tf.Session() as sess:\n",
    "    sess.run(init);\n",
    "    for i in range(len(raw_data)):\n",
    "        summary_str, curr_avg = sess.run([merged, update_avg], feed_dict={curr_value:raw_data[i]})\n",
    "        sess.run(tf.assign(prev_avg, curr_avg))\n",
    "        print(raw_data[i], curr_avg);\n",
    "        writer.add_summary(summary_str, i)"
   ]
  },
  {
   "cell_type": "code",
   "execution_count": null,
   "metadata": {
    "collapsed": true
   },
   "outputs": [],
   "source": []
  }
 ],
 "metadata": {
  "anaconda-cloud": {},
  "kernelspec": {
   "display_name": "Python [conda root]",
   "language": "python",
   "name": "conda-root-py"
  },
  "language_info": {
   "codemirror_mode": {
    "name": "ipython",
    "version": 3
   },
   "file_extension": ".py",
   "mimetype": "text/x-python",
   "name": "python",
   "nbconvert_exporter": "python",
   "pygments_lexer": "ipython3",
   "version": "3.5.2"
  }
 },
 "nbformat": 4,
 "nbformat_minor": 1
}
